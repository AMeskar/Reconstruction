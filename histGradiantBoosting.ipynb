{
 "cells": [
  {
   "cell_type": "markdown",
   "metadata": {},
   "source": [
    "## Extracting and Saving Primary Neutrino Energy Data\n",
    "\n",
    "This section processes Monte Carlo (MC) simulated neutrino interaction data to extract **primary neutrino energy values** and save them as a structured dataset.\n",
    "\n",
    "### **Process Overview:**\n",
    "1. **Reading the ROOT File**:\n",
    "   - The dataset is loaded using `km3io.OfflineReader`, which accesses MC simulation data.\n",
    "\n",
    "2. **Filtering Primary Neutrino Tracks**:\n",
    "   - The condition `status == 100` selects only **primary neutrino tracks**, ensuring that secondary particles are excluded.\n",
    "   - The energy values (`E`) of these primary neutrinos are extracted.\n",
    "\n",
    "3. **Flattening the Data**:\n",
    "   - `awkward.flatten()` is applied to handle nested structures and create a **1D array** of energy values.\n",
    "\n",
    "4. **Creating a Pandas DataFrame**:\n",
    "   - The extracted energy values are stored in a structured format for easier analysis.\n",
    "\n",
    "5. **Saving as CSV**:\n",
    "   - The final dataset is exported as `\"Primary_Neutrino_Energy.csv\"`, allowing for **external processing, model training, and visualization**.\n",
    "\n",
    "### **Purpose:**\n",
    "- Provides a **cleaned dataset** of true neutrino energy values from MC simulations.\n",
    "- Enables direct comparison with **reconstructed energy values** from machine learning models.\n",
    "- Saves the extracted energy values in a structured format for **further statistical analysis**."
   ]
  },
  {
   "cell_type": "code",
   "execution_count": 1144,
   "metadata": {},
   "outputs": [
    {
     "name": "stdout",
     "output_type": "stream",
     "text": [
      "Filtered energy data saved to 'Primary_Neutrino_Energy.csv'\n"
     ]
    }
   ],
   "source": [
    "import pandas as pd\n",
    "import awkward as ak\n",
    "import km3io as ki\n",
    "\n",
    "r = ki.OfflineReader('/Users/meskara/Documents/Energy_Reconstruction/mcv6.4.gsg_nue-NCHEDIS_1e2-1e8GeV.sirene.jterbr00009985.jchain.aanet.253.root')\n",
    "\n",
    "primary_neutrino_energy = ak.flatten(r[r.mc_tracks.status == 100].mc_tracks.E, axis=1)\n",
    "\n",
    "df_energy = pd.DataFrame({'Energy': primary_neutrino_energy})\n",
    "\n",
    "df_energy.to_csv('Primary_Neutrino_Energy.csv', index=False)\n",
    "\n",
    "print(\"Filtered energy data saved to 'Primary_Neutrino_Energy.csv'\")"
   ]
  },
  {
   "cell_type": "markdown",
   "metadata": {},
   "source": [
    "## Importing Necessary Libraries\n",
    "\n",
    "This section imports essential libraries for **data analysis, visualization, and machine learning**.\n",
    "\n",
    "### **Data Handling and Visualization:**\n",
    "- `pandas`: Used for loading and manipulating structured data.\n",
    "- `matplotlib.pyplot`: Provides functions for data visualization.\n",
    "- `numpy`: Enables numerical computations and array manipulations.\n",
    "- `seaborn`: Enhances visualization aesthetics and statistical analysis.\n",
    "\n",
    "### **Machine Learning Models:**\n",
    "- `RandomForestRegressor`, `GradientBoostingRegressor`, `HistGradientBoostingRegressor`: \n",
    "  - **Ensemble learning models** based on decision trees.\n",
    "  - Used for regression tasks to model complex relationships.\n",
    "- `KNeighborsRegressor`: A **non-parametric** algorithm predicting values based on the nearest neighbors.\n",
    "\n",
    "### **Model Training and Evaluation:**\n",
    "- `train_test_split`: Splits the dataset into training and testing subsets.\n",
    "- `mean_absolute_error`, `mean_squared_error`, `r2_score`: Metrics for evaluating regression model performance.\n",
    "- `StandardScaler`: Standardizes input features to improve model training efficiency.\n",
    "\n",
    "### **Deep Learning (Neural Networks) with TensorFlow/Keras:**\n",
    "- `Sequential`: Defines a **feedforward neural network** architecture.\n",
    "- `Dense`, `Dropout`: Fully connected layers and dropout regularization.\n",
    "- `Conv1D`, `Flatten`: Convolutional and flattening layers for feature extraction.\n",
    "- `Adam`: An optimizer that adjusts learning rates adaptively.\n",
    "\n",
    "### **Purpose:**\n",
    "These imports facilitate a **comprehensive machine learning workflow**, including:\n",
    "- **Preprocessing**: Standardization of features.\n",
    "- **Model Training**: Comparing tree-based models, k-NN, and deep learning approaches.\n",
    "- **Evaluation**: Measuring model accuracy using standard regression metrics.\n",
    "- **Visualization**: Graphically analyzing results and model performance.\n",
    "\n",
    "This setup enables an **end-to-end analysis pipeline** for energy reconstruction."
   ]
  },
  {
   "cell_type": "code",
   "execution_count": 1145,
   "metadata": {},
   "outputs": [],
   "source": [
    "import pandas as pd\n",
    "import matplotlib.pyplot as plt\n",
    "import numpy as np\n",
    "import seaborn as sn\n",
    "from sklearn.ensemble import RandomForestRegressor, GradientBoostingRegressor, HistGradientBoostingRegressor\n",
    "from sklearn.neighbors import KNeighborsRegressor\n",
    "from sklearn.model_selection import train_test_split\n",
    "from sklearn.metrics import mean_absolute_error, mean_squared_error, r2_score\n",
    "from sklearn.preprocessing import StandardScaler\n",
    "from tensorflow.keras.models import Sequential\n",
    "from tensorflow.keras.layers import Dense, Dropout, Conv1D, Flatten\n",
    "from tensorflow.keras.optimizers import Adam"
   ]
  },
  {
   "cell_type": "markdown",
   "metadata": {},
   "source": [
    "## Loading and Preparing Data\n",
    "\n",
    "This section loads two datasets from CSV files and ensures they are properly structured for further analysis.\n",
    "\n",
    "### **Datasets:**\n",
    "1. **Truth Data (`df_truth`)**:\n",
    "   - Contains detailed information about simulated neutrino interactions.\n",
    "   - Loaded from `\"All_fields_in_one_file.csv\"`.\n",
    "  \n",
    "2. **Reconstructed Data (`df_reco`)**:\n",
    "   - Contains the extracted primary neutrino energy values.\n",
    "   - Loaded from `\"Primary_Neutrino_Energy.csv\"`.\n",
    "\n",
    "### **Preprocessing Steps:**\n",
    "- **Resetting Index**: \n",
    "  - Ensures that both datasets have a **continuous index** after loading.\n",
    "  - Avoids potential inconsistencies in indexing that could affect merging or alignment.\n",
    "\n",
    "### **Purpose:**\n",
    "- This step prepares the datasets for **feature extraction, model training, and comparison between true and reconstructed energy values**.\n",
    "- Ensuring proper alignment of indices is crucial for accurate model input and evaluation."
   ]
  },
  {
   "cell_type": "code",
   "execution_count": 1146,
   "metadata": {},
   "outputs": [],
   "source": [
    "df_truth = pd.read_csv(\"/Documents/Energy_Reconstruction/All_fields_in_one_file.csv\")\n",
    "df_reco = pd.read_csv(\"/Documents/Energy_Reconstruction/Primary_Neutrino_Energy.csv\")\n",
    "\n",
    "df_truth = df_truth.reset_index(drop=True)\n",
    "df_reco = df_reco.reset_index(drop=True)"
   ]
  },
  {
   "cell_type": "markdown",
   "metadata": {},
   "source": [
    "## Selecting Features and Target Variable\n",
    "\n",
    "This section extracts relevant features (`X`) and the target variable (`y`) from the loaded datasets.\n",
    "\n",
    "### **Feature Selection (`X`)**:\n",
    "The selected features from `df_truth` include:\n",
    "- **Temporal Information**: `t`, `tdc` (time-related features).\n",
    "- **Spatial Coordinates**: `pos_x`, `pos_y`, `pos_z` (position in the detector).\n",
    "- **Directionality**: `dir_x`, `dir_y`, `dir_z` (directional components).\n",
    "- **Signal Properties**: `tot` (time-over-threshold), `a` (a dataset parameter).\n",
    "- **Trigger Information**: `trig` (indicates event registration).\n",
    "\n",
    "> **Note**: Features such as `id`, `id_channel`, and `id_dim` are excluded since they are identifiers and may not contribute to the prediction.\n",
    "\n",
    "### **Target Variable (`y`)**:\n",
    "- The **primary neutrino energy** is extracted from `df_reco['Energy']`.\n",
    "- Since energy spans multiple orders of magnitude, a **logarithmic transformation** is applied:\n",
    "\n",
    "&&\n",
    "y_{\\text{log}} = \\log_{10}(y)\n",
    "&&\n",
    "\n",
    "### **Purpose**:\n",
    "- Feature selection ensures the model receives relevant inputs for energy reconstruction.\n",
    "- The logarithmic transformation stabilizes variance and helps the model generalize across different energy scales."
   ]
  },
  {
   "cell_type": "code",
   "execution_count": 1147,
   "metadata": {},
   "outputs": [],
   "source": [
    "X = df_truth[['channel_id', 'dom_id','t', 'tdc', 'pos_x', 'pos_y', 'pos_z', 'dir_x', 'dir_y', 'dir_z', 'tot', 'a', 'trig']]  # Features without id, id channel, id dim\n",
    "y = df_reco['Energy']  \n",
    "y_log = np.log10(y)  "
   ]
  },
  {
   "cell_type": "markdown",
   "metadata": {},
   "source": [
    "## Standardizing Features\n",
    "\n",
    "To ensure that all features contribute equally to the model, **feature standardization** is applied using `StandardScaler`.\n",
    "\n",
    "### **Why Standardize?**\n",
    "1. **Removes Scale Differences**: Features such as position (`pos_x`, `pos_y`, `pos_z`) and time (`t`, `tdc`) have different units and magnitudes.\n",
    "2. **Improves Model Performance**: Many machine learning algorithms (especially gradient-based methods) perform better when features are standardized.\n",
    "3. **Reduces Sensitivity to Outliers**: Standardization mitigates the impact of extreme values.\n",
    "\n",
    "### **Standardization Formula:**\n",
    "$$\n",
    "X_{\\text{scaled}} = \\frac{X - \\mu}{\\sigma}\n",
    "$$\n",
    "where:\n",
    "- $\\mu$ is the mean of each feature.\n",
    "- $\\sigma$ is the standard deviation.\n",
    "\n",
    "### **Implementation:**\n",
    "- `StandardScaler().fit_transform(X)` computes the mean and standard deviation for each feature and scales the data accordingly.\n",
    "\n",
    "### **Purpose:**\n",
    "- Ensures **consistent feature scaling**, improving model efficiency and training stability."
   ]
  },
  {
   "cell_type": "code",
   "execution_count": 1148,
   "metadata": {},
   "outputs": [],
   "source": [
    "scaler = StandardScaler()\n",
    "X = scaler.fit_transform(X)"
   ]
  },
  {
   "cell_type": "code",
   "execution_count": 1149,
   "metadata": {},
   "outputs": [],
   "source": [
    "X_train, X_test, y_train_log, y_test_log = train_test_split(X, y_log, test_size=0.2, random_state=42)"
   ]
  },
  {
   "cell_type": "markdown",
   "metadata": {},
   "source": [
    "## Reverting Log Transformation of the Target Variable\n",
    "\n",
    "Since we applied a **logarithmic transformation** to the energy values earlier:\n",
    "\n",
    "$$\n",
    "y_{\\text{log}} = \\log_{10}(y)\n",
    "$$\n",
    "\n",
    "we now reverse this transformation to obtain the **original energy values**:\n",
    "\n",
    "$$\n",
    "y_{\\text{test original}} = 10^{y_{\\text{test log}}}\n",
    "$$\n",
    "\n",
    "### **Why Revert the Log Transformation?**\n",
    "1. **Interpretability**: The model predicts `log10(E)`, but we need actual energy values for meaningful evaluation.\n",
    "2. **Comparison with True Values**: Regression performance metrics like MAE and MSE must be calculated using original-scale energy values.\n",
    "3. **Post-processing for Analysis**: If results are used in scientific applications or visualizations, they must be in their original physical units.\n",
    "\n",
    "### **Purpose:**\n",
    "This step ensures that model predictions and true energy values are in the **same scale**, allowing accurate performance evaluation."
   ]
  },
  {
   "cell_type": "code",
   "execution_count": 1150,
   "metadata": {},
   "outputs": [],
   "source": [
    "y_test_original = 10 ** y_test_log"
   ]
  },
  {
   "cell_type": "markdown",
   "metadata": {},
   "source": [
    "## Training a Histogram-Based Gradient Boosting Regressor\n",
    "\n",
    "This section trains a **HistGradientBoostingRegressor**, an optimized gradient boosting model designed for efficiency and performance in large datasets.\n",
    "\n",
    "### **Model Characteristics:**\n",
    "- **Histogram-Based Algorithm**:\n",
    "  - Unlike traditional gradient boosting, this model **bins continuous feature values** into discrete bins, significantly speeding up computation.\n",
    "\n",
    "### **Hyperparameters Used:**\n",
    "- **Regularization (`l2_regularization=0.8`)**:\n",
    "  - Prevents overfitting by penalizing overly complex models.\n",
    "- **Learning Rate (`learning_rate=0.01`)**:\n",
    "  - Controls how much each tree contributes to the final prediction.\n",
    "  - A **low learning rate** improves generalization at the cost of longer training time.\n",
    "- **Tree Structure:**\n",
    "  - `max_bins=255`: Limits the number of bins used for feature quantization, optimizing memory and performance.\n",
    "  - `max_depth=7`: Restricts the depth of each tree to **prevent excessive complexity**.\n",
    "  - `max_iter=3000`: Trains the model with **3000 boosting iterations** for high accuracy.\n",
    "  - `max_leaf_nodes=10`: Limits the number of leaf nodes per tree, balancing complexity and generalization.\n",
    "  - `min_samples_leaf=20`: Ensures each leaf contains at least **20 samples**, preventing overly specific rules.\n",
    "\n",
    "### **Loss Function (`loss='squared_error'`)**:\n",
    "- Uses the **mean squared error (MSE)** as the loss function, making it suitable for **continuous target values**.\n",
    "\n",
    "### **Reproducibility (`random_state=42`)**:\n",
    "- Ensures that results are consistent across different runs.\n",
    "\n",
    "### **Purpose:**\n",
    "- This gradient boosting model is designed to **efficiently handle large datasets** while maintaining high predictive accuracy.\n",
    "- The carefully chosen hyperparameters aim to balance **bias-variance tradeoff**, improving generalization to unseen data."
   ]
  },
  {
   "cell_type": "code",
   "execution_count": 1151,
   "metadata": {},
   "outputs": [],
   "source": [
    "model = HistGradientBoostingRegressor( l2_regularization = 0.8, learning_rate = 0.01, max_bins = 255, max_depth = 7, max_iter = 3000, max_leaf_nodes = 10, min_samples_leaf = 20, loss='squared_error', random_state=42).fit(X_train, y_train_log)"
   ]
  },
  {
   "cell_type": "markdown",
   "metadata": {},
   "source": [
    "## Evaluating Model Performance on Training Data\n",
    "\n",
    "This command calculates the **R² score (coefficient of determination)** for the trained **HistGradientBoostingRegressor** model on the training dataset.\n",
    "\n",
    "### **What is the R² Score?**\n",
    "$$\n",
    "R^2 = 1 - \\frac{\\sum (y_{\\text{true}} - y_{\\text{pred}})^2}{\\sum (y_{\\text{true}} - \\bar{y})^2}\n",
    "$$\n",
    "\n",
    "- Measures how well the model explains the variance in the training data.\n",
    "- A score of **1.0** indicates a perfect fit (low bias).\n",
    "- A score of **0.0** means the model is no better than predicting the mean of the target variable.\n",
    "- Negative values indicate the model performs worse than a simple mean predictor.\n",
    "\n",
    "### **Purpose:**\n",
    "- This score provides insight into how well the model has **learned patterns from the training data**.\n",
    "- A very high R² on training data may indicate **overfitting**, requiring further validation on test data.\n",
    "- Comparing R² on both training and test sets helps assess **generalization performance**."
   ]
  },
  {
   "cell_type": "code",
   "execution_count": 1152,
   "metadata": {},
   "outputs": [
    {
     "data": {
      "text/plain": [
       "0.8749037953549657"
      ]
     },
     "execution_count": 1152,
     "metadata": {},
     "output_type": "execute_result"
    }
   ],
   "source": [
    "model.score(X_train,y_train_log)"
   ]
  },
  {
   "cell_type": "code",
   "execution_count": 1153,
   "metadata": {},
   "outputs": [],
   "source": [
    "y_pred_log = model.predict(X_test)"
   ]
  },
  {
   "cell_type": "markdown",
   "metadata": {},
   "source": [
    "## Reverting Log Transformation of Predictions\n",
    "\n",
    "Since the model was trained to predict **log-transformed energy values**:\n",
    "\n",
    "$$\n",
    "y_{\\text{log}} = \\log_{10}(y)\n",
    "$$\n",
    "\n",
    "we now **reverse** this transformation to recover the predicted energy values in their original scale:\n",
    "\n",
    "$$\n",
    "y_{\\text{pred}} = 10^{y_{\\text{pred log}}}\n",
    "$$\n",
    "\n",
    "### **Why Revert the Log Transformation?**\n",
    "1. **Interpretability**: The model outputs logarithmic energy values, but real-world applications require actual energy values.\n",
    "2. **Consistency with True Values**: To compare predictions with the original energy data, they must be in the same scale.\n",
    "3. **Meaningful Evaluation**: Performance metrics like **MAE, MSE, and R²** must be computed using the original energy scale.\n",
    "\n",
    "### **Purpose:**\n",
    "This step ensures that model predictions are **properly scaled for evaluation** and real-world interpretation."
   ]
  },
  {
   "cell_type": "code",
   "execution_count": 1154,
   "metadata": {},
   "outputs": [],
   "source": [
    "y_pred = 10 ** y_pred_log"
   ]
  },
  {
   "cell_type": "code",
   "execution_count": 1156,
   "metadata": {},
   "outputs": [],
   "source": [
    "BINS = np.logspace(1,9,50)"
   ]
  },
  {
   "cell_type": "code",
   "execution_count": 1157,
   "metadata": {},
   "outputs": [
    {
     "data": {
      "image/png": "[encoded data removed]",
      "text/plain": [
       "<Figure size 1000x600 with 1 Axes>"
      ]
     },
     "metadata": {},
     "output_type": "display_data"
    }
   ],
   "source": [
    "plt.figure(figsize=(10, 6))\n",
    "\n",
    "plt.hist(y_test_original, bins=BINS, histtype='step', color='orange', linewidth=2, label='Actual Energy')\n",
    "plt.hist(y_pred, bins=BINS, histtype='step', color='blue', linewidth=2, label='Predicted Energy')\n",
    "\n",
    "plt.xscale('log')\n",
    "plt.yscale('log')\n",
    "\n",
    "plt.xlabel('Energy in Gev')\n",
    "plt.ylabel('Frequency')\n",
    "plt.title('Outline Histogram of Predicted and Actual Energy (Log-Log Scale)')\n",
    "\n",
    "plt.legend()\n",
    "\n",
    "plt.show()"
   ]
  }
 ],
 "metadata": {
  "kernelspec": {
   "display_name": "Python 3",
   "language": "python",
   "name": "python3"
  },
  "language_info": {
   "codemirror_mode": {
    "name": "ipython",
    "version": 3
   },
   "file_extension": ".py",
   "mimetype": "text/x-python",
   "name": "python",
   "nbconvert_exporter": "python",
   "pygments_lexer": "ipython3",
   "version": "3.9.6"
  }
 },
 "nbformat": 4,
 "nbformat_minor": 2
}
